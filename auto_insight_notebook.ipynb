{
 "cells": [
  {
   "cell_type": "code",
   "execution_count": 5,
   "id": "04e4fdeb-8ec3-4a6b-afd4-0fbd9e017c09",
   "metadata": {},
   "outputs": [],
   "source": [
    "import pandas as pd"
   ]
  },
  {
   "cell_type": "code",
   "execution_count": 12,
   "id": "12125a0b-e818-4d18-a0b9-432f8eec2b42",
   "metadata": {},
   "outputs": [
    {
     "name": "stdout",
     "output_type": "stream",
     "text": [
      "Requirement already satisfied: openpyxl in c:\\users\\achyu\\appdata\\local\\programs\\python\\python313\\lib\\site-packages (3.1.5)\n",
      "Requirement already satisfied: et-xmlfile in c:\\users\\achyu\\appdata\\local\\programs\\python\\python313\\lib\\site-packages (from openpyxl) (2.0.0)\n",
      "Note: you may need to restart the kernel to use updated packages.\n"
     ]
    },
    {
     "name": "stderr",
     "output_type": "stream",
     "text": [
      "\n",
      "[notice] A new release of pip is available: 24.3.1 -> 25.1.1\n",
      "[notice] To update, run: python.exe -m pip install --upgrade pip\n"
     ]
    }
   ],
   "source": [
    "pip install openpyxl"
   ]
  },
  {
   "cell_type": "code",
   "execution_count": 13,
   "id": "2358832b-efbb-4290-801a-97e52632af14",
   "metadata": {},
   "outputs": [
    {
     "name": "stdout",
     "output_type": "stream",
     "text": [
      "   Product_ID  Sale_Date Sales_Rep Region  Sales_Amount  Quantity_Sold  \\\n",
      "0        1052 2023-02-03       Bob  North       5053.97             18   \n",
      "1        1093 2023-04-21       Bob   West       4384.02             17   \n",
      "2        1015 2023-09-21     David  South       4631.23             30   \n",
      "3        1072 2023-08-24       Bob  South       2167.94             39   \n",
      "4        1061 2023-03-24   Charlie   East       3750.20             13   \n",
      "\n",
      "  Product_Category  Unit_Cost  Unit_Price Customer_Type  Discount  \\\n",
      "0        Furniture     152.75      267.22     Returning      0.09   \n",
      "1        Furniture    3816.39     4209.44     Returning      0.11   \n",
      "2             Food     261.56      371.40     Returning      0.20   \n",
      "3         Clothing    4330.03     4467.75           New      0.02   \n",
      "4      Electronics     637.37      692.71           New      0.08   \n",
      "\n",
      "  Payment_Method Sales_Channel Region_and_Sales_Rep  \n",
      "0           Cash        Online            North-Bob  \n",
      "1           Cash        Retail             West-Bob  \n",
      "2  Bank Transfer        Retail          South-David  \n",
      "3    Credit Card        Retail            South-Bob  \n",
      "4    Credit Card        Online         East-Charlie  \n"
     ]
    }
   ],
   "source": [
    "import pandas as pd\n",
    "\n",
    "file_path = r\"C:\\Users\\achyu\\Downloads\\sales_data.xlsx\"\n",
    "\n",
    "df = pd.read_excel(file_path)\n",
    "\n",
    "print(df.head())\n"
   ]
  },
  {
   "cell_type": "code",
   "execution_count": 1,
   "id": "811c3c17-8398-4b68-8654-11eb1e11a168",
   "metadata": {},
   "outputs": [
    {
     "name": "stdout",
     "output_type": "stream",
     "text": [
      "\n",
      "✅ Total Sales by Region:\n",
      " Region\n",
      "North    1369612.51\n",
      "East     1259792.93\n",
      "West     1235608.93\n",
      "South    1154250.86\n",
      "Name: Sales_Amount, dtype: float64\n",
      "\n",
      "✅ Total Sales by Sales Rep:\n",
      " Sales_Rep\n",
      "David      1141737.36\n",
      "Bob        1080990.63\n",
      "Eve         970183.99\n",
      "Alice       965541.77\n",
      "Charlie     860811.48\n",
      "Name: Sales_Amount, dtype: float64\n",
      "\n",
      "✅ Total Quantity Sold by Product Category:\n",
      " Product_Category\n",
      "Clothing       6922\n",
      "Furniture      6729\n",
      "Electronics    6096\n",
      "Food           5608\n",
      "Name: Quantity_Sold, dtype: int64\n",
      "\n",
      "✅ Sales Amount by Customer Type:\n",
      " Customer_Type\n",
      "New          2506258.30\n",
      "Returning    2513006.93\n",
      "Name: Sales_Amount, dtype: float64\n"
     ]
    }
   ],
   "source": [
    "# Required Libraries\n",
    "import pandas as pd\n",
    "\n",
    "# Load data\n",
    "file_path = r\"C:\\Users\\achyu\\Downloads\\sales_data.xlsx\"  # or use your uploaded path\n",
    "df = pd.read_excel(file_path)\n",
    "\n",
    "# Convert Sale_Date to datetime\n",
    "df['Sale_Date'] = pd.to_datetime(df['Sale_Date'])\n",
    "\n",
    "# 🟡 1. Total sales per Region\n",
    "region_sales = df.groupby('Region')['Sales_Amount'].sum().sort_values(ascending=False)\n",
    "\n",
    "# 🟡 2. Sales per Sales Rep\n",
    "rep_sales = df.groupby('Sales_Rep')['Sales_Amount'].sum().sort_values(ascending=False)\n",
    "\n",
    "# 🟡 3. Product Category by Quantity\n",
    "category_quantity = df.groupby('Product_Category')['Quantity_Sold'].sum().sort_values(ascending=False)\n",
    "\n",
    "# 🟡 4. Sales by Customer Type\n",
    "customer_sales = df.groupby('Customer_Type')['Sales_Amount'].sum()\n",
    "\n",
    "# Print All\n",
    "print(\"\\n✅ Total Sales by Region:\\n\", region_sales)\n",
    "print(\"\\n✅ Total Sales by Sales Rep:\\n\", rep_sales)\n",
    "print(\"\\n✅ Total Quantity Sold by Product Category:\\n\", category_quantity)\n",
    "print(\"\\n✅ Sales Amount by Customer Type:\\n\", customer_sales)\n"
   ]
  },
  {
   "cell_type": "code",
   "execution_count": 20,
   "id": "122f9e72-8e35-4c07-9fa1-4f7b10f3db29",
   "metadata": {},
   "outputs": [
    {
     "name": "stdout",
     "output_type": "stream",
     "text": [
      "\n",
      "📌 Auto Insights:\n",
      "• The top performing region is **North** with total sales of ₹1,369,612.51,\n",
      "  while **South** had the lowest with ₹1,154,250.86.\n",
      "• **David** achieved the highest sales among all sales reps with ₹1,141,737.36 revenue.\n",
      "• The most sold product category is **Clothing** with a total of 6922 units.\n",
      "• **Returning customers** generated slightly more revenue with ₹2,513,006.93 (difference: ₹6,748.63).\n"
     ]
    }
   ],
   "source": [
    "# Insight 1 – Region\n",
    "top_region = region_sales.idxmax()\n",
    "bottom_region = region_sales.idxmin()\n",
    "top_region_amt = region_sales.max()\n",
    "bottom_region_amt = region_sales.min()\n",
    "\n",
    "# Insight 2 – Sales Rep\n",
    "top_rep = rep_sales.idxmax()\n",
    "top_rep_amt = rep_sales.max()\n",
    "\n",
    "# Insight 3 – Product Category\n",
    "top_category = category_quantity.idxmax()\n",
    "top_category_qty = category_quantity.max()\n",
    "\n",
    "# Insight 4 – Customer Type\n",
    "top_customer = customer_sales.idxmax()\n",
    "top_customer_amt = customer_sales.max()\n",
    "diff_amt = abs(customer_sales['Returning'] - customer_sales['New'])\n",
    "\n",
    "# Generate Auto Insights\n",
    "print(\"\\n📌 Auto Insights:\")\n",
    "print(f\"• The top performing region is **{top_region}** with total sales of ₹{top_region_amt:,.2f},\")\n",
    "print(f\"  while **{bottom_region}** had the lowest with ₹{bottom_region_amt:,.2f}.\")\n",
    "\n",
    "print(f\"• **{top_rep}** achieved the highest sales among all sales reps with ₹{top_rep_amt:,.2f} revenue.\")\n",
    "\n",
    "print(f\"• The most sold product category is **{top_category}** with a total of {top_category_qty} units.\")\n",
    "\n",
    "print(f\"• **{top_customer} customers** generated slightly more revenue with ₹{top_customer_amt:,.2f} (difference: ₹{diff_amt:,.2f}).\")\n"
   ]
  }
 ],
 "metadata": {
  "kernelspec": {
   "display_name": "Python 3 (ipykernel)",
   "language": "python",
   "name": "python3"
  },
  "language_info": {
   "codemirror_mode": {
    "name": "ipython",
    "version": 3
   },
   "file_extension": ".py",
   "mimetype": "text/x-python",
   "name": "python",
   "nbconvert_exporter": "python",
   "pygments_lexer": "ipython3",
   "version": "3.13.2"
  }
 },
 "nbformat": 4,
 "nbformat_minor": 5
}
